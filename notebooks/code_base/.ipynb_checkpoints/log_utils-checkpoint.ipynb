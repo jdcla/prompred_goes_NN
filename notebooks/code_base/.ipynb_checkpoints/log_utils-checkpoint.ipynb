{
 "cells": [
  {
   "cell_type": "code",
   "execution_count": 10,
   "metadata": {
    "collapsed": false
   },
   "outputs": [
    {
     "name": "stdout",
     "output_type": "stream",
     "text": [
      "Overwriting ../../src/log_utils.py\n"
     ]
    }
   ],
   "source": [
    "%%writefile ../../src/log_utils.py\n",
    "# %load ../../src/log_utils.py\n",
    "# %%writefile ../../src/log_utils.py\n",
    "\"\"\"\n",
    "Author: Jim Clauwaert\n",
    "Created in the scope of my PhD\n",
    "\"\"\"\n",
    "\n",
    "import json\n",
    "import datetime as dt\n",
    "import pandas as pd\n",
    "\n",
    "def LogInit(function, model, localarg):\n",
    "    time = dt.datetime.now().strftime('%Y-%m-%d_%H-%M')            \n",
    "    parString = ''.join([num for num in localarg])\n",
    "    LOGFILENAME = '{}_{}_{}-{}'.format(time, function, model, parString)\n",
    "    RESULTLOG = '../logs/result_logger/'+LOGFILENAME\n",
    "    \n",
    "    MAINLOG = '../logs/log.txt'\n",
    "    output = '\\n\\nSTARTED  '+LOGFILENAME + '\\n\\targuments: '+str(localarg)\n",
    "    with open(MAINLOG, 'a') as f:\n",
    "        f.write(output)\n",
    "    f.close()\n",
    "    print(output)\n",
    "    return LOGFILENAME, MAINLOG, RESULTLOG\n",
    "    \n",
    "def LogWrap(MAINLOG, RESULTLOG, results):\n",
    "    \n",
    "\n",
    "    results.to_csv(\"{}.txt\".format(RESULTLOG))\n",
    "\n",
    "    outputWrap = '\\n...FINISHED'\n",
    "    with open(MAINLOG, 'a') as f:\n",
    "        f.write(outputWrap)\n",
    "    print(outputWrap)\n",
    "    f.close()\n",
    "    \n",
    "                "
   ]
  },
  {
   "cell_type": "code",
   "execution_count": null,
   "metadata": {
    "collapsed": true
   },
   "outputs": [],
   "source": []
  }
 ],
 "metadata": {
  "kernelspec": {
   "display_name": "Python 3",
   "language": "python",
   "name": "python3"
  },
  "language_info": {
   "codemirror_mode": {
    "name": "ipython",
    "version": 3
   },
   "file_extension": ".py",
   "mimetype": "text/x-python",
   "name": "python",
   "nbconvert_exporter": "python",
   "pygments_lexer": "ipython3",
   "version": "3.5.2"
  }
 },
 "nbformat": 4,
 "nbformat_minor": 2
}
