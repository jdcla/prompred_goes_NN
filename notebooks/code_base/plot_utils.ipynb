{
 "cells": [
  {
   "cell_type": "code",
   "execution_count": 3,
   "metadata": {
    "collapsed": false
   },
   "outputs": [
    {
     "name": "stdout",
     "output_type": "stream",
     "text": [
      "Overwriting ../../src/plots/plot_utils.py\n"
     ]
    }
   ],
   "source": [
    " %%writefile ../../src/plots/plot_utils.py\n",
    "# %load ../../src/plots/plot_utils.py\n",
    "# %%writefile ../../src/plots/plot_utils.py\n",
    "\"\"\"\n",
    "Author: Jim Clauwaert\n",
    "Created in the scope of my PhD\n",
    "\"\"\"\n",
    "\n",
    "\n",
    "import pandas as pd\n",
    "import numpy as np\n",
    "import matplotlib.pyplot as plt\n",
    "\n",
    "\n",
    "def VisualizeSelection(Y, mask, start, stop, sequences, IDs ):\n",
    "    TSS_seq = pd.read_csv(\"data/external/TSS_seq.csv\")\n",
    "    TSS_info = pd.read_csv(\"data/exteral/TSS_info.csv\")\n",
    "    mask_TSS = (TSS_seq[\"strand\"] == \"+\") & (TSS_info[\"sigma_binding\"].str.count(\"D\") == 1) & (TSS_seq[\"conditions\"].str.count(\"E\") == 1)\n",
    "    TSS = TSS_seq.loc[mask_TSS,\"TSS_position\"].values\n",
    "    positions = [int(id[-8:]) for id in IDs]\n",
    "    \n",
    "    fig, ax = plt.subplots(figsize=((end-start)/250,7))\n",
    "    ax.plot(positions[start:end], Smooth(Y, window_len=50)[start:end], 'b')\n",
    "    ax.vlines(np.array(positions)[start:end][mask[start:end]],-2,5, 'g')\n",
    "    for x_value in TSS:\n",
    "        if x_value > positions[start] and (x_value< positions[end]):\n",
    "            ax.vlines(x_value,-2,4, 'orange')\n",
    "    \n",
    "    return fig, ax\n",
    "    "
   ]
  },
  {
   "cell_type": "code",
   "execution_count": null,
   "metadata": {
    "collapsed": true
   },
   "outputs": [],
   "source": []
  }
 ],
 "metadata": {
  "kernelspec": {
   "display_name": "Python 3",
   "language": "python",
   "name": "python3"
  },
  "language_info": {
   "codemirror_mode": {
    "name": "ipython",
    "version": 3
   },
   "file_extension": ".py",
   "mimetype": "text/x-python",
   "name": "python",
   "nbconvert_exporter": "python",
   "pygments_lexer": "ipython3",
   "version": "3.5.2"
  }
 },
 "nbformat": 4,
 "nbformat_minor": 2
}
