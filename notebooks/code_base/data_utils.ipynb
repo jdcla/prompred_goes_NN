{
 "cells": [
  {
   "cell_type": "code",
   "execution_count": 3,
   "metadata": {
    "collapsed": false
   },
   "outputs": [
    {
     "name": "stdout",
     "output_type": "stream",
     "text": [
      "Overwriting ../../src/data/data_utils.py\n"
     ]
    }
   ],
   "source": [
    "%%writefile ../../src/data/data_utils.py\n",
    "# %load ../../src/data/data_utils.py\n",
    "# %%writefile ../../src/data/data_utils.py\n",
    "\n",
    "\"\"\"\n",
    "Author: Jim Clauwaert\n",
    "Created in the scope of my PhD\n",
    "\"\"\"\n",
    "\n",
    "import numpy as np\n",
    "import pandas as pd\n",
    "from statsmodels import robust\n",
    "\n",
    "\n",
    "def GetDataLocations(sigma):\n",
    "    \"\"\" Helper function for quick access of ChIP-chip data\n",
    "    sigma: string\n",
    "        Sigma-factor for which data is loaded\n",
    "        \n",
    "    OUTPUT\n",
    "    -------\n",
    "    \"\"\"\n",
    "    experiments = {\"RPOD\":3, \"RPOS\":3, \"RNAP\":3}\n",
    "    \n",
    "    if sigma in experiments:\n",
    "        for i in range(experiments[sigma]):\n",
    "            data_ip = [\"../data/external/{}_EXP_{}_635.extr\".format(sigma, u+1) for u in range(experiments[sigma])]\n",
    "            data_mock_ip = [\"../data/external/{}_EXP_{}_532.extr\".format(sigma, u+1) for u in range(experiments[sigma])]\n",
    "    else:\n",
    "        return [], []\n",
    "        \n",
    "    return data_ip, data_mock_ip\n",
    "\n",
    "\n"
   ]
  },
  {
   "cell_type": "code",
   "execution_count": null,
   "metadata": {
    "collapsed": true
   },
   "outputs": [],
   "source": []
  }
 ],
 "metadata": {
  "kernelspec": {
   "display_name": "Python 3",
   "language": "python",
   "name": "python3"
  },
  "language_info": {
   "codemirror_mode": {
    "name": "ipython",
    "version": 3
   },
   "file_extension": ".py",
   "mimetype": "text/x-python",
   "name": "python",
   "nbconvert_exporter": "python",
   "pygments_lexer": "ipython3",
   "version": "3.5.2"
  }
 },
 "nbformat": 4,
 "nbformat_minor": 2
}
