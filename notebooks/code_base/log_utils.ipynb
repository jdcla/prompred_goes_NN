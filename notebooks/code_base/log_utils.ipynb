{
 "cells": [
  {
   "cell_type": "code",
   "execution_count": 1,
   "metadata": {
    "collapsed": false
   },
   "outputs": [
    {
     "name": "stdout",
     "output_type": "stream",
     "text": [
      "Overwriting ../../src/log_utils.py\n"
     ]
    }
   ],
   "source": [
    "%%writefile ../../src/log_utils.py\n",
    "# %load ../../src/log_utils.py\n",
    "# %%writefile ../../src/log_utils.py\n",
    "\"\"\"\n",
    "Author: Jim Clauwaert\n",
    "Created in the scope of my PhD\n",
    "\"\"\"\n",
    "\n",
    "import json\n",
    "import datetime as dt\n",
    "import pandas as pd\n",
    "\n",
    "def line_prepender(filename, line):\n",
    "    with open(filename, 'r+') as f:\n",
    "        content = f.read()\n",
    "        f.seek(0, 0)\n",
    "        f.write(line.rstrip('\\r\\n') + '\\n' + content)\n",
    "\n",
    "def LogInit(function, model, arg_dict, hyp_string):\n",
    "    time = dt.datetime.now().strftime('%Y-%m-%d_%H-%M-%S') \n",
    "    LOGFILENAME = '{}_{}_{}'.format(time, function, model)\n",
    "    RESULTLOG = '../logs/result_logger/'+LOGFILENAME\n",
    "    \n",
    "    MAINLOG = '../logs/log.txt'\n",
    "    output = \"\\n\\nSTARTED {}\\n\\thyper-parameters: {}\\n\\targuments: {}\".format(LOGFILENAME, hyp_string, arg_dict)\n",
    "    with open(MAINLOG, 'a') as f:   f.write(output)\n",
    "    f.close()\n",
    "    print(output)\n",
    "    return LOGFILENAME, MAINLOG, RESULTLOG\n",
    "    \n",
    "def LogWrap(MAINLOG, RESULTLOG, results, hyp_string, repeat, repeats):\n",
    "\n",
    "    filename = \"{}_{}.txt\".format(RESULTLOG, repeat)\n",
    "    results.to_csv(filename,index=False)\n",
    "    \n",
    "    line_prepender(filename, \"##\" + hyp_string)\n",
    "    \n",
    "        \n",
    "    if repeat+1 == repeats:\n",
    "        outputWrap = '\\n...FINISHED'\n",
    "        with open(MAINLOG, 'a') as f:\n",
    "            f.write(outputWrap)\n",
    "        print(outputWrap)\n",
    "        f.close()\n",
    "\n",
    "                "
   ]
  },
  {
   "cell_type": "code",
   "execution_count": null,
   "metadata": {
    "collapsed": true
   },
   "outputs": [],
   "source": []
  }
 ],
 "metadata": {
  "kernelspec": {
   "display_name": "Python 3",
   "language": "python",
   "name": "python3"
  },
  "language_info": {
   "codemirror_mode": {
    "name": "ipython",
    "version": 3
   },
   "file_extension": ".py",
   "mimetype": "text/x-python",
   "name": "python",
   "nbconvert_exporter": "python",
   "pygments_lexer": "ipython3",
   "version": "3.5.2"
  }
 },
 "nbformat": 4,
 "nbformat_minor": 2
}
